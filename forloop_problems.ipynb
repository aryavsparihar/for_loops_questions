{
 "cells": [
  {
   "cell_type": "code",
   "execution_count": null,
   "id": "44388807-468d-4d09-a1a0-6b214b193024",
   "metadata": {},
   "outputs": [
    {
     "name": "stdout",
     "output_type": "stream",
     "text": [
      "1 2 3 4 5 "
     ]
    }
   ],
   "source": [
    "# print numbers from 1 to 5\n",
    "# question : write a program to print numbers from 1 to 5 using a for loop\n",
    "# expected output : 1 2 3 4 5\n",
    "\n",
    "for i in range(1,6):   \n",
    "    print(i, end=' ')"
   ]
  },
  {
   "cell_type": "code",
   "execution_count": 6,
   "id": "f4c1af12",
   "metadata": {},
   "outputs": [
    {
     "name": "stdout",
     "output_type": "stream",
     "text": [
      "1 4 9 16 25 "
     ]
    }
   ],
   "source": [
    "# print squares of numbers from 1 to 5\n",
    "# question : write a program to print the squares of numbers from 1 to 5\n",
    "# expected output : 1 4 9 16 25\n",
    "\n",
    "for i in range(1,6):\n",
    "    print(i**2, end=' ')"
   ]
  },
  {
   "cell_type": "code",
   "execution_count": 7,
   "id": "4ef82f10",
   "metadata": {},
   "outputs": [
    {
     "name": "stdout",
     "output_type": "stream",
     "text": [
      "2 4 6 8 10 "
     ]
    }
   ],
   "source": [
    "# print even numbers from 1 to 10\n",
    "# question : write a question to print all even numbers from 1 to 10\n",
    "# expected output : 2 4 6 8 10\n",
    "\n",
    "for i in range(1,11):\n",
    "    if(i%2==0):\n",
    "        print(i, end=' ')"
   ]
  },
  {
   "cell_type": "code",
   "execution_count": 9,
   "id": "77590982",
   "metadata": {},
   "outputs": [
    {
     "name": "stdout",
     "output_type": "stream",
     "text": [
      "sum = 55\n"
     ]
    }
   ],
   "source": [
    "# calculate sum of numbers from 1 to 10\n",
    "# question : write a program to calculate sum of numbers from 1 to 10\n",
    "# expected output : sum = 55\n",
    "\n",
    "sum=0\n",
    "for i in range(1,11):\n",
    "    sum+=i\n",
    "print(f'sum = {sum}')"
   ]
  },
  {
   "cell_type": "code",
   "execution_count": 11,
   "id": "a4d55b6c",
   "metadata": {},
   "outputs": [
    {
     "name": "stdout",
     "output_type": "stream",
     "text": [
      "nohtyp"
     ]
    }
   ],
   "source": [
    "# reverse a word\n",
    "# question : write a program to print the word \" python \" in reverse using a for loop\n",
    "# expected output : nohtyP\n",
    "\n",
    "word = 'python'\n",
    "for i in range(len(word)-1, -1, -1):\n",
    "    print(word[i], end='')"
   ]
  },
  {
   "cell_type": "code",
   "execution_count": 12,
   "id": "684d6c39",
   "metadata": {},
   "outputs": [
    {
     "name": "stdout",
     "output_type": "stream",
     "text": [
      "total vowels in education is 5\n"
     ]
    }
   ],
   "source": [
    "# count vowels in a string\n",
    "# question : write a program to count vowels in a the word \" education \"\n",
    "# expected output : 5\n",
    "\n",
    "vowels='aeiou'\n",
    "word='education'\n",
    "count=0\n",
    "\n",
    "for char in word:\n",
    "    if char in vowels:\n",
    "        count += 1\n",
    "\n",
    "print(f'total vowels in {word} is {count}')"
   ]
  },
  {
   "cell_type": "code",
   "execution_count": null,
   "id": "a4656cd6",
   "metadata": {},
   "outputs": [
    {
     "name": "stdout",
     "output_type": "stream",
     "text": [
      "0 1 1 2 3 5 8 13 21 34 55 89 "
     ]
    }
   ],
   "source": [
    "# print fibonacci sequence upto 10 terms\n",
    "# expected output : 0 1 1 2 3 5 8 13 21 34\n",
    "\n",
    "a=0                               \n",
    "b=1                              \n",
    "print(a,b,end=' ')               \n",
    "\n",
    "for i in range(10):               \n",
    "    next_term=a+b                 \n",
    "    print(next_term, end=' ')     \n",
    "    a,b=b,next_term               "
   ]
  },
  {
   "cell_type": "code",
   "execution_count": 22,
   "id": "155fe124",
   "metadata": {},
   "outputs": [
    {
     "name": "stdout",
     "output_type": "stream",
     "text": [
      "factorial of 5 is 120\n"
     ]
    }
   ],
   "source": [
    "# calculate factorial of a given number, such as 5\n",
    "# expected output : 120\n",
    "\n",
    "n=5\n",
    "fact=1\n",
    "\n",
    "for i in range(1, n+1):\n",
    "    fact*=i\n",
    "\n",
    "print(f\"factorial of {n} is {fact}\")"
   ]
  },
  {
   "cell_type": "code",
   "execution_count": 23,
   "id": "e70c4709",
   "metadata": {},
   "outputs": [
    {
     "name": "stdout",
     "output_type": "stream",
     "text": [
      "7 is a prime number\n"
     ]
    }
   ],
   "source": [
    "# check if a number is prime\n",
    "# question : write a program to check if a given number, such as 7, is a prime number\n",
    "\n",
    "num=7\n",
    "is_prime=True\n",
    "\n",
    "for i in range(2, int(num**0.5)+1):\n",
    "    if num%i==0:\n",
    "        is_prime=False\n",
    "        break\n",
    "\n",
    "if is_prime and num>1:\n",
    "    print(num, \"is a prime number\")\n",
    "else:\n",
    "    print(num, \"not a prime number\")"
   ]
  },
  {
   "cell_type": "code",
   "execution_count": 24,
   "id": "24445313",
   "metadata": {},
   "outputs": [
    {
     "name": "stdout",
     "output_type": "stream",
     "text": [
      "p: 1\n",
      "r: 2\n",
      "o: 1\n",
      "g: 2\n",
      "a: 1\n",
      "m: 2\n",
      "i: 1\n",
      "n: 1\n"
     ]
    }
   ],
   "source": [
    "# write occurences of each character in a string\n",
    "# question : write a program to count occurences of each character in the word \"programming\"\n",
    "\n",
    "word='programming'\n",
    "char_count={}\n",
    "\n",
    "for char in word:\n",
    "    if char in char_count:\n",
    "        char_count[char]+=1\n",
    "    else:\n",
    "        char_count[char]=1\n",
    "\n",
    "for char, count in char_count.items():\n",
    "    print(char + ':', count)"
   ]
  }
 ],
 "metadata": {
  "kernelspec": {
   "display_name": "Python 3",
   "language": "python",
   "name": "python3"
  },
  "language_info": {
   "codemirror_mode": {
    "name": "ipython",
    "version": 3
   },
   "file_extension": ".py",
   "mimetype": "text/x-python",
   "name": "python",
   "nbconvert_exporter": "python",
   "pygments_lexer": "ipython3",
   "version": "3.13.4"
  }
 },
 "nbformat": 4,
 "nbformat_minor": 5
}
